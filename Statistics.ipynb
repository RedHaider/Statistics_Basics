{
  "nbformat": 4,
  "nbformat_minor": 0,
  "metadata": {
    "colab": {
      "provenance": []
    },
    "kernelspec": {
      "name": "python3",
      "display_name": "Python 3"
    },
    "language_info": {
      "name": "python"
    }
  },
  "cells": [
    {
      "cell_type": "markdown",
      "source": [
        "**Statistics Mean, Median, Mode, Statistics, Standard Deviation**"
      ],
      "metadata": {
        "id": "LefYODbxldYM"
      }
    },
    {
      "cell_type": "code",
      "source": [
        "import numpy as np\n",
        "import matplotlib.pyplot as plt\n",
        "import statistics\n",
        "import scipy.stats as stats\n",
        "age=[3, 48, 28, 6, 39, 18, 47, 12, 8, 30, 19, 5, 35, 25, 40, 22, 9, 42, 17, 7, 44, 23, 33, 21, 46, 15, 13, 32, 2, 43, 38, 14, 26, 41, 31, 20, 37, 4, 27, 16, 1, 34, 36, 11, 10, 45, 24, 29, 0, 49, 50, 6, 30, 14, 28, 42, 37, 16, 44, 39, 23, 48, 10, 2, 47, 1, 5, 8, 35, 20, 41, 7, 33, 11, 46, 25, 3, 9, 19, 13, 38, 22, 43, 32, 12, 21, 4, 18, 45, 26, 15, 27, 34, 31, 24, 36, 17, 40, 50, 49, 0, 30, 21, 15, 25, 6, 32, 40, 14, 10, 29, 47, 19, 36, 38, 11, 39, 5, 3, 9, 41, 2, 33, 44, 43, 46, 27, 35, 45, 48, 22, 4, 23, 28, 12, 20, 1, 42, 13, 8, 16, 37, 24, 31, 26, 7, 17, 34, 49, 18, 50, 0, 48, 14, 5, 37, 17, 12, 33, 43, 4, 39, 29, 22, 35, 41, 38, 30, 46, 19, 27, 44, 3, 32, 11, 23, 16, 47, 42, 10, 20, 8, 15, 45, 6, 26, 28, 21, 31, 18, 25, 13, 2, 36, 1, 34, 7, 49, 9, 24, 40, 50, 46, 27, 15, 34, 12, 47, 26, 40, 18, 43, 5, 19, 38, 13, 10, 42, 1, 7, 23, 30, 4, 14, 36, 20, 32, 45, 21, 35, 16, 22, 48, 33, 25, 17, 11, 29, 39, 2, 31, 44, 3, 9, 37, 8, 49, 24, 6, 0]\n",
        "\n",
        "mean= statistics.mean(age)\n",
        "median= statistics.median(age)\n",
        "mode= statistics.mode(age)\n",
        "Standard_Deviation= statistics.stdev(age)\n",
        "Z_Score= stats.zscore(age)\n",
        "\n",
        "\n",
        "print(\"Mean=\",mean)\n",
        "print(\"Median=\",median)\n",
        "print(\"Mode=\",mode)\n",
        "print(\"Standard_Deviation=\",Standard_Deviation)\n",
        "print(\"Z_Score=\",Z_Score)\n",
        "\n",
        "\n"
      ],
      "metadata": {
        "colab": {
          "base_uri": "https://localhost:8080/"
        },
        "id": "A1TMzMbGlpIw",
        "outputId": "e562d281-3b10-4477-fe43-d8ce517159d5"
      },
      "execution_count": 6,
      "outputs": [
        {
          "output_type": "stream",
          "name": "stdout",
          "text": [
            "Mean= 24.908\n",
            "Median= 25.0\n",
            "Mode= 3 hello\n",
            "Standard_Deviation= 14.687765583346069\n",
            "Z_Score= [-1.49457368  1.5753467   0.21093764 -1.28991232  0.96136262 -0.47126689\n",
            "  1.50712625 -0.88058961 -1.15347142  0.34737855 -0.40304644 -1.35813278\n",
            "  0.68848081  0.00627628  1.02958308 -0.19838508 -1.08525096  1.16602398\n",
            " -0.53948734 -1.22169187  1.30246489 -0.13016462  0.5520399  -0.26660553\n",
            "  1.43890579 -0.67592825 -0.81236915  0.48381945 -1.56279413  1.23424443\n",
            "  0.89314217 -0.7441487   0.07449673  1.09780353  0.415599   -0.33482598\n",
            "  0.82492172 -1.42635323  0.14271719 -0.60770779 -1.63101459  0.62026036\n",
            "  0.75670126 -0.94881006 -1.01703051  1.37068534 -0.06194417  0.27915809\n",
            " -1.69923504  1.64356715  1.7117876  -1.28991232  0.34737855 -0.7441487\n",
            "  0.21093764  1.16602398  0.82492172 -0.60770779  1.30246489  0.96136262\n",
            " -0.13016462  1.5753467  -1.01703051 -1.56279413  1.50712625 -1.63101459\n",
            " -1.35813278 -1.15347142  0.68848081 -0.33482598  1.09780353 -1.22169187\n",
            "  0.5520399  -0.94881006  1.43890579  0.00627628 -1.49457368 -1.08525096\n",
            " -0.40304644 -0.81236915  0.89314217 -0.19838508  1.23424443  0.48381945\n",
            " -0.88058961 -0.26660553 -1.42635323 -0.47126689  1.37068534  0.07449673\n",
            " -0.67592825  0.14271719  0.62026036  0.415599   -0.06194417  0.75670126\n",
            " -0.53948734  1.02958308  1.7117876   1.64356715 -1.69923504  0.34737855\n",
            " -0.26660553 -0.67592825  0.00627628 -1.28991232  0.48381945  1.02958308\n",
            " -0.7441487  -1.01703051  0.27915809  1.50712625 -0.40304644  0.75670126\n",
            "  0.89314217 -0.94881006  0.96136262 -1.35813278 -1.49457368 -1.08525096\n",
            "  1.09780353 -1.56279413  0.5520399   1.30246489  1.23424443  1.43890579\n",
            "  0.14271719  0.68848081  1.37068534  1.5753467  -0.19838508 -1.42635323\n",
            " -0.13016462  0.21093764 -0.88058961 -0.33482598 -1.63101459  1.16602398\n",
            " -0.81236915 -1.15347142 -0.60770779  0.82492172 -0.06194417  0.415599\n",
            "  0.07449673 -1.22169187 -0.53948734  0.62026036  1.64356715 -0.47126689\n",
            "  1.7117876  -1.69923504  1.5753467  -0.7441487  -1.35813278  0.82492172\n",
            " -0.53948734 -0.88058961  0.5520399   1.23424443 -1.42635323  0.96136262\n",
            "  0.27915809 -0.19838508  0.68848081  1.09780353  0.89314217  0.34737855\n",
            "  1.43890579 -0.40304644  0.14271719  1.30246489 -1.49457368  0.48381945\n",
            " -0.94881006 -0.13016462 -0.60770779  1.50712625  1.16602398 -1.01703051\n",
            " -0.33482598 -1.15347142 -0.67592825  1.37068534 -1.28991232  0.07449673\n",
            "  0.21093764 -0.26660553  0.415599   -0.47126689  0.00627628 -0.81236915\n",
            " -1.56279413  0.75670126 -1.63101459  0.62026036 -1.22169187  1.64356715\n",
            " -1.08525096 -0.06194417  1.02958308  1.7117876   1.43890579  0.14271719\n",
            " -0.67592825  0.62026036 -0.88058961  1.50712625  0.07449673  1.02958308\n",
            " -0.47126689  1.23424443 -1.35813278 -0.40304644  0.89314217 -0.81236915\n",
            " -1.01703051  1.16602398 -1.63101459 -1.22169187 -0.13016462  0.34737855\n",
            " -1.42635323 -0.7441487   0.75670126 -0.33482598  0.48381945  1.37068534\n",
            " -0.26660553  0.68848081 -0.60770779 -0.19838508  1.5753467   0.5520399\n",
            "  0.00627628 -0.53948734 -0.94881006  0.27915809  0.96136262 -1.56279413\n",
            "  0.415599    1.30246489 -1.49457368 -1.08525096  0.82492172 -1.15347142\n",
            "  1.64356715 -0.06194417 -1.28991232 -1.69923504]\n"
          ]
        }
      ]
    },
    {
      "cell_type": "markdown",
      "source": [
        "**Histogram**"
      ],
      "metadata": {
        "id": "Vx8yF9mjoBGX"
      }
    },
    {
      "cell_type": "code",
      "source": [
        "from google.colab import drive\n",
        "drive.mount('/content/drive')\n",
        "\n",
        "plt.hist(age, bins=20, range=(0, 50), edgecolor='black')\n",
        "\n",
        "# Add labels and title\n",
        "plt.xlabel('Value')\n",
        "plt.ylabel('Frequency')\n",
        "plt.title('Histogram of Numbers')\n",
        "save_location = \"/content/drive/MyDrive/ADN_DATA/histogram.png\"\n",
        "plt.savefig(save_location)\n",
        "# Display the histogram\n",
        "plt.show()"
      ],
      "metadata": {
        "colab": {
          "base_uri": "https://localhost:8080/",
          "height": 510
        },
        "id": "uO0dNpi8n_6W",
        "outputId": "4b65c203-e12c-4e3b-fb48-349d008d0f15"
      },
      "execution_count": 13,
      "outputs": [
        {
          "output_type": "stream",
          "name": "stdout",
          "text": [
            "Drive already mounted at /content/drive; to attempt to forcibly remount, call drive.mount(\"/content/drive\", force_remount=True).\n"
          ]
        },
        {
          "output_type": "display_data",
          "data": {
            "text/plain": [
              "<Figure size 640x480 with 1 Axes>"
            ],
            "image/png": "[encoded data removed]"
          },
          "metadata": {}
        }
      ]
    },
    {
      "cell_type": "markdown",
      "source": [
        "**Sending Via Email**"
      ],
      "metadata": {
        "id": "Jx-hzfF-w0fs"
      }
    },
    {
      "cell_type": "code",
      "source": [
        "import smtplib\n",
        "from email.mime.multipart import MIMEMultipart\n",
        "from email.mime.text import MIMEText\n",
        "from email.mime.image import MIMEImage\n",
        "from email import encoders\n",
        "\n",
        "# Email configuration\n",
        "sender_email = '*************************'\n",
        "sender_password = '****************'\n",
        "receiver_email = 'almehady@gmail.com'\n",
        "subject = 'Histogram Email'\n",
        "message = 'Please find the histogram attached.'\n",
        "\n",
        "# Create the email message\n",
        "msg = MIMEMultipart()\n",
        "msg['From'] = sender_email\n",
        "msg['To'] = receiver_email\n",
        "msg['Subject'] = subject\n",
        "msg.attach(MIMEText(message, 'plain'))\n",
        "\n",
        "# Attach the histogram.png file\n",
        "with open('/content/drive/MyDrive/ADN_DATA/histogram.png', 'rb') as file:\n",
        "    image = MIMEImage(file.read(), name='histogram.png')\n",
        "    msg.attach(image)\n",
        "\n",
        "# Connect to the SMTP server and send the email\n",
        "with smtplib.SMTP(host='smtp.gmail.com', port=587) as server:\n",
        "    server.starttls()\n",
        "    server.login(sender_email, sender_password)\n",
        "    server.send_message(msg)\n",
        "\n",
        "print('Email sent successfully!')"
      ],
      "metadata": {
        "colab": {
          "base_uri": "https://localhost:8080/"
        },
        "id": "zKVb7sBb74RL",
        "outputId": "812bcebd-5342-4088-ee21-7683fe1a47c2"
      },
      "execution_count": 26,
      "outputs": [
        {
          "output_type": "stream",
          "name": "stdout",
          "text": [
            "Email sent successfully!\n"
          ]
        }
      ]
    },
    {
      "cell_type": "code",
      "source": [
        "import smtplib\n",
        "from email.mime.multipart import MIMEMultipart\n",
        "from email.mime.text import MIMEText\n",
        "from email.mime.image import MIMEImage\n",
        "from email import encoders\n",
        "from datetime import datetime\n",
        "\n",
        "# Email configuration\n",
        "sender_email = 'syedaliredwanulhaider13@gmail.com'\n",
        "sender_password = 'hzrpolgyfjyndhnf'\n",
        "receiver_email = 'almehady@gmail.com'\n",
        "now = datetime.now()\n",
        "subject = f\"REPORT[{now.strftime('%d:%m:%Y')}]\"\n",
        "message = f\"Dear Sir,\\n\\nPlease find the histogram attached.\\n\\nDate and Time: {now.strftime('%d:%m:%Y %H:%M:%S')}\\n\\nName: Syed Ali Redwanul Haider\\nDesignation: DA Trainee\"\n",
        "\n",
        "# Create the email message\n",
        "msg = MIMEMultipart()\n",
        "msg['From'] = sender_email\n",
        "msg['To'] = receiver_email\n",
        "msg['Subject'] = subject\n",
        "msg.attach(MIMEText(message, 'plain'))\n",
        "\n",
        "# Attach the histogram.png file\n",
        "with open('/content/drive/MyDrive/ADN_DATA/histogram.png', 'rb') as file:\n",
        "    image = MIMEImage(file.read(), name='histogram.png')\n",
        "    msg.attach(image)\n",
        "\n",
        "# Connect to the SMTP server and send the email\n",
        "with smtplib.SMTP(host='smtp.gmail.com', port=587) as server:\n",
        "    server.starttls()\n",
        "    server.login(sender_email, sender_password)\n",
        "    server.send_message(msg)\n",
        "\n",
        "print('Email sent successfully!')\n"
      ],
      "metadata": {
        "colab": {
          "base_uri": "https://localhost:8080/"
        },
        "id": "RVi0XMy4JfB9",
        "outputId": "82689b8f-d03d-4de7-8c14-e088df77cbf8"
      },
      "execution_count": 33,
      "outputs": [
        {
          "output_type": "stream",
          "name": "stdout",
          "text": [
            "Email sent successfully!\n"
          ]
        }
      ]
    },
    {
      "cell_type": "code",
      "source": [],
      "metadata": {
        "id": "SZlGIzU74tAC"
      },
      "execution_count": null,
      "outputs": []
    }
  ]
}